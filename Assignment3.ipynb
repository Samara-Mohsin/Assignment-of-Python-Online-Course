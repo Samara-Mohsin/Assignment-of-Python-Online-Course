{
 "cells": [
  {
   "cell_type": "code",
   "execution_count": 1,
   "metadata": {},
   "outputs": [
    {
     "name": "stdout",
     "output_type": "stream",
     "text": [
      "PRESS 1 For Addition /n 2 for Subtractiobn /n 3 for multiplication /n 4 for division\n",
      "Enter the number: 3\n",
      "Enter 1st digit: 4\n",
      "Enter the sec digit5\n",
      "Output of multiplication is:  20\n"
     ]
    }
   ],
   "source": [
    "#ASSIGNMENT 3:\n",
    "#Q1(CALCULATOR)\n",
    "\n",
    "print(\"PRESS 1 For Addition /n 2 for Subtractiobn /n 3 for multiplication /n 4 for division\")\n",
    "x=int(input(\"Enter the number: \"))\n",
    "\n",
    "a=int(input(\"Enter 1st digit: \"))\n",
    "b=int(input(\"Enter the sec digit\"))\n",
    "if x==1:\n",
    "    c=a+b\n",
    "    print(\"Output of addition is: \",c)\n",
    "elif x==2:\n",
    "    c=a-b\n",
    "    print(\"Output of subtraction is: \",c)\n",
    "elif x==3:\n",
    "    c=a*b\n",
    "    print(\"Output of multiplication is: \",c)\n",
    "else:\n",
    "    c=a/b\n",
    "    print(\"Output of division is: \",c)\n",
    "    "
   ]
  },
  {
   "cell_type": "code",
   "execution_count": 2,
   "metadata": {},
   "outputs": [
    {
     "name": "stdout",
     "output_type": "stream",
     "text": [
      "How many numbers you want to add in list?: 3\n",
      "Enter the number100\n",
      "100\n",
      "Enter the number34\n",
      "34\n",
      "Enter the number5\n",
      "5\n",
      "[100, 34, 5]\n"
     ]
    }
   ],
   "source": [
    "#ASSI 3 Q2\n",
    "a=[]\n",
    "\n",
    "num=int(input(\"How many numbers you want to add in list?: \"))\n",
    "i=1\n",
    "for i in range(1,num+1):\n",
    "    num2=int(input(\"Enter the number\"))\n",
    "    a.append(num2)\n",
    "    if type(num2) is int:\n",
    "        print(num2)\n",
    "print(a)\n"
   ]
  },
  {
   "cell_type": "code",
   "execution_count": 3,
   "metadata": {},
   "outputs": [
    {
     "name": "stdout",
     "output_type": "stream",
     "text": [
      "Current Dict is:  {'key1': 'SAM', 'key2': 'MOHSIN'}\n",
      "Enter the keyTrial_key\n",
      "Enter the valueTrial_value\n",
      "Updated Dict is:  {'key1': 'SAM', 'key2': 'MOHSIN', 'Trial_key': 'Trial_value'}\n"
     ]
    }
   ],
   "source": [
    "#ASSI 3\n",
    "#Q3\n",
    "\n",
    "\n",
    "dict = {'key1':'SAM', 'key2':'MOHSIN'} \n",
    "print(\"Current Dict is: \", dict) \n",
    "\n",
    "key=input(\"Enter the key\")\n",
    "value=input(\"Enter the value\")\n",
    "# adding key \n",
    "dict.update({key: value}) \n",
    "print(\"Updated Dict is: \", dict) "
   ]
  },
  {
   "cell_type": "code",
   "execution_count": 4,
   "metadata": {},
   "outputs": [
    {
     "name": "stdout",
     "output_type": "stream",
     "text": [
      "How many keys and values you want to enter in a dictionary? \n",
      " value should be an integer2\n",
      "Enter the key1st_value\n",
      "Enter the value100\n",
      "Enter the key2nd_value\n",
      "Enter the value45\n",
      "Updated Dict is:  {'1st_value': 100, '2nd_value': 45}\n",
      "sum of values is:  145\n"
     ]
    }
   ],
   "source": [
    "#Assig 3\n",
    "#Q4\n",
    "\n",
    "dict = {} \n",
    "x=int(input(\"How many keys and values you want to enter in a dictionary? \\n value should be an integer\")) \n",
    "\n",
    "for i in range(1,x+1):\n",
    "    key=input(\"Enter the key\")\n",
    "    value=int(input(\"Enter the value\"))\n",
    "# adding key \n",
    "    dict.update({key: value}) \n",
    "print(\"Updated Dict is: \", dict)\n",
    "\n",
    "sum = 0\n",
    "for i in dict.values():\n",
    "    sum = sum + i\n",
    "print(\"sum of values is: \",sum)"
   ]
  },
  {
   "cell_type": "code",
   "execution_count": 5,
   "metadata": {},
   "outputs": [
    {
     "name": "stdout",
     "output_type": "stream",
     "text": [
      "[20, 30, -20, 60]\n"
     ]
    }
   ],
   "source": [
    "#Assi3 Q5\n",
    "def Repeat(x): \n",
    "    _size = len(x) \n",
    "    repeated = [] \n",
    "    for i in range(_size): \n",
    "        k = i + 1\n",
    "        for j in range(k, _size): \n",
    "            if x[i] == x[j] and x[i] not in repeated: \n",
    "                repeated.append(x[i]) \n",
    "    return repeated \n",
    "   \n",
    "list1 = [10, 20, 30, 20, 20, 30, 40,  \n",
    "         50, -20, 60, 60, -20, -20] \n",
    "print (Repeat(list1))"
   ]
  },
  {
   "cell_type": "code",
   "execution_count": 6,
   "metadata": {},
   "outputs": [
    {
     "name": "stdout",
     "output_type": "stream",
     "text": [
      "Key is present in the dictionary\n",
      "Key is not present in the dictionary\n"
     ]
    }
   ],
   "source": [
    "#Assig 3\n",
    "#Q6\n",
    "\n",
    "d = {1: 10, 2: 20, 3: 30, 4: 40, 5: 50, 6: 60}\n",
    "def is_key_present(x):\n",
    "  if x in d:\n",
    "      print('Key is present in the dictionary')\n",
    "  else:\n",
    "      print('Key is not present in the dictionary')\n",
    "is_key_present(5)\n",
    "is_key_present(9)"
   ]
  },
  {
   "cell_type": "code",
   "execution_count": null,
   "metadata": {},
   "outputs": [],
   "source": []
  }
 ],
 "metadata": {
  "kernelspec": {
   "display_name": "Python 3",
   "language": "python",
   "name": "python3"
  },
  "language_info": {
   "codemirror_mode": {
    "name": "ipython",
    "version": 3
   },
   "file_extension": ".py",
   "mimetype": "text/x-python",
   "name": "python",
   "nbconvert_exporter": "python",
   "pygments_lexer": "ipython3",
   "version": "3.7.4"
  }
 },
 "nbformat": 4,
 "nbformat_minor": 2
}
