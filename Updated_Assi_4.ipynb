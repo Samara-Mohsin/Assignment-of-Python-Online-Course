{
 "cells": [
  {
   "cell_type": "code",
   "execution_count": 1,
   "metadata": {},
   "outputs": [
    {
     "name": "stdout",
     "output_type": "stream",
     "text": [
      "{'first_name': 'Neha', 'Last_name': 'Iqbal', 'Age: ': '18', 'city': 'Karachi'}\n",
      "{'first_name': 'Neha', 'Last_name': 'Iqbal', 'Age: ': '18', 'city': 'Karachi', 'qualification': 'High Academic level'}\n",
      "{'first_name': 'Neha', 'Last_name': 'Iqbal', 'Age: ': '18', 'city': 'Karachi'}\n"
     ]
    }
   ],
   "source": [
    "#ASSIGNMENT 4:\n",
    "#Q1\n",
    "dict={'first_name':'Neha',\n",
    "     'Last_name':'Iqbal',\n",
    "     'Age: ':'18',\n",
    "     'city':'Karachi'}\n",
    "print(dict)\n",
    "dict.update({'qualification':'High Academic level'})\n",
    "print(dict)\n",
    "del dict['qualification']\n",
    "print(dict)"
   ]
  },
  {
   "cell_type": "code",
   "execution_count": 2,
   "metadata": {},
   "outputs": [
    {
     "name": "stdout",
     "output_type": "stream",
     "text": [
      "Karachi:  {'Country': 'Pakistan', 'Population': '14.91 million', 'Fact': 'Karachi is also the media electronic capital of Pakistan'}\n",
      "Toronto:  {'Country': 'Canada', 'Population': '2.93 million ', 'Fact': 'Toronto is the only Canadian city with representation in 7 major league sport'}\n",
      "Madinah:  {'Country': 'Saudi Arabia', 'Population': '1.1 million ', 'Fact': 'The city is situated in the most fertile land in the entire Hejaz territory'}\n"
     ]
    }
   ],
   "source": [
    "#ASSIG 4 Q2\n",
    "cities={'Karachi':{'Country':'Pakistan','Population':'14.91 million','Fact':'Karachi is also the media electronic capital of Pakistan'},\n",
    "        'Toronto':{'Country':'Canada','Population':'2.93 million ','Fact':'Toronto is the only Canadian city with representation in 7 major league sport'},\n",
    "        'Madinah':{'Country':'Saudi Arabia','Population':'1.1 million ','Fact':'The city is situated in the most fertile land in the entire Hejaz territory'}}\n",
    "##print(cities)\n",
    "print('Karachi: ',cities['Karachi'])\n",
    "print('Toronto: ',cities['Toronto'])\n",
    "print('Madinah: ',cities['Madinah'])"
   ]
  },
  {
   "cell_type": "code",
   "execution_count": null,
   "metadata": {},
   "outputs": [
    {
     "name": "stdout",
     "output_type": "stream",
     "text": [
      "Enter your age? 2\n",
      "The ticket is free\n",
      "Enter your age? 15\n",
      "the ticket is $15\n",
      "Enter your age? 6\n",
      "The ticket is $10\n"
     ]
    }
   ],
   "source": [
    "#Q3\n",
    "while True:\n",
    "    age = int(input(\"Enter your age? \"))\n",
    "    if age <= 3:\n",
    "        print(\"The ticket is free\")\n",
    "    elif age > 3 and age < 12:\n",
    "        print(\"The ticket is $10\")\n",
    "    else:\n",
    "        print(\"the ticket is $15\")"
   ]
  },
  {
   "cell_type": "code",
   "execution_count": 5,
   "metadata": {},
   "outputs": [
    {
     "name": "stdout",
     "output_type": "stream",
     "text": [
      "one of my favourite books is Alice in Wonderland\n"
     ]
    }
   ],
   "source": [
    "#Q4\n",
    "def favourite_book(title):\n",
    "    print('one of my favourite books is',title)\n",
    "favourite_book(\"Alice in Wonderland\")"
   ]
  },
  {
   "cell_type": "code",
   "execution_count": 6,
   "metadata": {},
   "outputs": [
    {
     "name": "stdout",
     "output_type": "stream",
     "text": [
      "Please enter your guess: 25\n",
      "Your guess is too high\n",
      "Please enter your guess: 10\n",
      "Your guess is too low\n",
      "Please enter your guess: 15\n",
      "Your guess is too low\n"
     ]
    }
   ],
   "source": [
    "#Q5\n",
    "import random\n",
    " \n",
    "hidden = random.randrange(1,30)\n",
    " \n",
    "i=1\n",
    "\n",
    "for i in range(1,4):\n",
    "    guess = int(input(\"Please enter your guess: \"))\n",
    "    if guess == hidden:\n",
    "        print(\"Hit!\")\n",
    "        break\n",
    "    elif guess < hidden:\n",
    "        print(\"Your guess is too low\")\n",
    "    else:\n",
    "        print(\"Your guess is too high\")"
   ]
  },
  {
   "cell_type": "code",
   "execution_count": null,
   "metadata": {},
   "outputs": [],
   "source": []
  }
 ],
 "metadata": {
  "kernelspec": {
   "display_name": "Python 3",
   "language": "python",
   "name": "python3"
  },
  "language_info": {
   "codemirror_mode": {
    "name": "ipython",
    "version": 3
   },
   "file_extension": ".py",
   "mimetype": "text/x-python",
   "name": "python",
   "nbconvert_exporter": "python",
   "pygments_lexer": "ipython3",
   "version": "3.7.4"
  }
 },
 "nbformat": 4,
 "nbformat_minor": 2
}
